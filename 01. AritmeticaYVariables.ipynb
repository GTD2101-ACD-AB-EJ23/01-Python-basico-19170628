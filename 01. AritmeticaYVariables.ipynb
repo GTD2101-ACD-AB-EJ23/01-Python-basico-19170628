{
  "cells": [
    {
      "attachments": {},
      "cell_type": "markdown",
      "metadata": {},
      "source": [
        "# Aritmética y Variables\n",
        "\n",
        "En este JNB se revisará el tema de Aritmética y Variables"
      ]
    },
    {
      "cell_type": "code",
      "execution_count": null,
      "metadata": {},
      "outputs": [],
      "source": []
    },
    {
      "cell_type": "code",
      "execution_count": 1,
      "metadata": {
        "id": "O8NoTzxjs2wK",
        "outputId": "fa4bc249-a4fa-48a6-9dc6-7733646ed223"
      },
      "outputs": [
        {
          "name": "stdout",
          "output_type": "stream",
          "text": [
            "Hello \n",
            " (World!)\n"
          ]
        }
      ],
      "source": [
        "print(\"Hello \\n (World!)\")"
      ]
    },
    {
      "cell_type": "code",
      "execution_count": 2,
      "metadata": {},
      "outputs": [
        {
          "name": "stdout",
          "output_type": "stream",
          "text": [
            "Hola Este es un texto que tiene varias lineas.\n",
            "Python es poderoso\n"
          ]
        }
      ],
      "source": [
        "texto='''Hola Este es un texto que tiene varias lineas.\n",
        "Python es poderoso'''\n",
        "print(texto) "
      ]
    },
    {
      "attachments": {},
      "cell_type": "markdown",
      "metadata": {},
      "source": [
        "## Comentarios en Python\n",
        "## Para Comentar en Python usar el simbolo #\n"
      ]
    },
    {
      "cell_type": "code",
      "execution_count": 3,
      "metadata": {},
      "outputs": [
        {
          "name": "stdout",
          "output_type": "stream",
          "text": [
            "El Curso esta \"dificil\"\n",
            "El Curso esta \"dificil\",mi Nombre es jhon China\n"
          ]
        }
      ],
      "source": [
        "# La siguiente instruccion imprime un texto Utilizando f-string\n",
        "# otra Linea\n",
        "# linea 3\n",
        "nombre =\"jhon\"\n",
        "aperellido=\"China\"\n",
        "print(f\"El Curso esta \\\"dificil\\\"\")\n",
        "print(f\"El Curso esta \\\"dificil\\\",mi Nombre es {nombre} {aperellido}\")"
      ]
    }
  ],
  "metadata": {
    "colab": {
      "include_colab_link": true,
      "provenance": []
    },
    "kernelspec": {
      "display_name": "Python 3",
      "language": "python",
      "name": "python3"
    },
    "language_info": {
      "codemirror_mode": {
        "name": "ipython",
        "version": 3
      },
      "file_extension": ".py",
      "mimetype": "text/x-python",
      "name": "python",
      "nbconvert_exporter": "python",
      "pygments_lexer": "ipython3",
      "version": "3.10.4"
    },
    "orig_nbformat": 4,
    "vscode": {
      "interpreter": {
        "hash": "3ad933181bd8a04b432d3370b9dc3b0662ad032c4dfaa4e4f1596c548f763858"
      }
    }
  },
  "nbformat": 4,
  "nbformat_minor": 0
}
